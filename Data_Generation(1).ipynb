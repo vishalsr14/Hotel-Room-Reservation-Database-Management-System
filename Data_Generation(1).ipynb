{
 "cells": [
  {
   "cell_type": "code",
   "execution_count": 3,
   "id": "7f1e1926",
   "metadata": {},
   "outputs": [],
   "source": [
    "from faker import Faker\n",
    "import csv\n",
    "import random\n",
    "from datetime import datetime, timedelta\n",
    "\n",
    "fake = Faker('en_US')  \n",
    "num_records = 10000"
   ]
  },
  {
   "cell_type": "code",
   "execution_count": 4,
   "id": "1fda197c",
   "metadata": {},
   "outputs": [],
   "source": [
    "phone_number=lambda: random.choice('23456789') + ''.join(random.choices('0123456789', k=2)) + random.choice('23456789') + ''.join(random.choices('0123456789', k=2)) + ''.join(random.choices('0123456789', k=4))"
   ]
  },
  {
   "cell_type": "code",
   "execution_count": 5,
   "id": "2db4f557",
   "metadata": {
    "tags": []
   },
   "outputs": [
    {
     "data": {
      "text/plain": [
       "'\\\\Users\\\\Admin\\\\OneDrive\\\\Documents\\\\csv\\\\host.csv'"
      ]
     },
     "execution_count": 5,
     "metadata": {},
     "output_type": "execute_result"
    }
   ],
   "source": [
    "with open(r'C:\\Users\\Admin\\OneDrive\\Documents\\csv\\host.csv', mode='w', newline='') as file:\n",
    "    writer = csv.writer(file)\n",
    "    writer.writerow(['Host_ID', 'Listing_ID', 'Booking_ID', 'Country_ID', 'Status_ID', 'Response_ID',\n",
    "                     'FirstName', 'LastName', 'Date_Of_Birth', 'Gender', 'Email', 'Phone', 'No_Of_Listings', 'SuperHost'])\n",
    "    start_id = 1\n",
    "    for _ in range(num_records):\n",
    "        host_id = listing_id = booking_id = start_id\n",
    "        start_id += 1\n",
    "        \n",
    "        first_name = fake.first_name()\n",
    "        last_name = fake.last_name()\n",
    "        dob = fake.date_of_birth(tzinfo=None, minimum_age=21, maximum_age=60)\n",
    "        gender = random.choice(['Male', 'Female'])\n",
    "        email = fake.email()\n",
    "        phone = phone_number()\n",
    "        no_of_listings = random.randint(1, 10) \n",
    "        country_id = random.randint(1, 10)  \n",
    "        status_id = random.randint(1, 2)  \n",
    "        response_id = random.randint(1, 3)\n",
    "        superhost = random.choice(['Yes', 'No'])\n",
    "        writer.writerow([host_id, listing_id, booking_id, country_id, status_id, response_id,\n",
    "                         first_name, last_name, dob, gender, email, phone, no_of_listings, superhost])\n",
    "\n",
    "\n",
    "file_path = r'\\Users\\Admin\\OneDrive\\Documents\\csv\\host.csv'\n",
    "file_path"
   ]
  },
  {
   "cell_type": "code",
   "execution_count": 10,
   "id": "8becb176-a064-44f2-b101-666b7ccb46a3",
   "metadata": {
    "tags": []
   },
   "outputs": [
    {
     "data": {
      "text/plain": [
       "'\\\\Users\\\\Admin\\\\OneDrive\\\\Documents\\\\csv\\\\guest.csv'"
      ]
     },
     "execution_count": 10,
     "metadata": {},
     "output_type": "execute_result"
    }
   ],
   "source": [
    "with open(r'C:\\Users\\Admin\\OneDrive\\Documents\\csv\\guest.csv', mode='w', newline='') as file:\n",
    "        writer = csv.writer(file)\n",
    "        writer.writerow(['Guest_ID', 'Listing_ID', 'Booking_ID', 'Status_ID', 'Country_ID', 'FirstName', 'LastName',\n",
    "                         'Date_Of_Birth', 'Gender', 'Email', 'Phone'])\n",
    "        start_id = 1\n",
    "        for _ in range(num_records):\n",
    "            guest_id = review_id = listing_id = booking_id = start_id\n",
    "            start_id += 1\n",
    "    \n",
    "            first_name = fake.first_name()\n",
    "            last_name = fake.last_name()\n",
    "            dob = fake.date_of_birth(tzinfo=None, minimum_age=21, maximum_age=60)\n",
    "            gender = random.choice(['Male', 'Female'])\n",
    "            email = fake.email()\n",
    "            phone = phone_number()\n",
    "            country_id = random.randint(1, 10)  \n",
    "            status_id = random.randint(1, 2)\n",
    "            writer.writerow([guest_id, listing_id, booking_id, status_id, country_id, first_name, last_name, dob,\n",
    "                             gender, email, phone])\n",
    "\n",
    "\n",
    "        \n",
    "file_path = r'\\Users\\Admin\\OneDrive\\Documents\\csv\\guest.csv'\n",
    "file_path"
   ]
  },
  {
   "cell_type": "code",
   "execution_count": 11,
   "id": "054d201c",
   "metadata": {},
   "outputs": [
    {
     "data": {
      "text/plain": [
       "'\\\\Users\\\\Admin\\\\OneDrive\\\\Documents\\\\csv\\\\review.csv'"
      ]
     },
     "execution_count": 11,
     "metadata": {},
     "output_type": "execute_result"
    }
   ],
   "source": [
    "with open(r'C:\\Users\\Admin\\OneDrive\\Documents\\csv\\review.csv', mode='w', newline='') as file:\n",
    "        writer = csv.writer(file)\n",
    "        writer.writerow(['Host_ID', 'Guest_ID', 'Listing_ID', 'Rating_ID', 'Review_Date', 'Total_Rating',\n",
    "                         'Communication_Rating', 'Cleanliness_Rating', 'Location_Rating', 'CheckIn_Rating'])\n",
    "        start_id = 1\n",
    "        for _ in range(num_records):\n",
    "            host_id = guest_id = listing_id= start_id\n",
    "            start_id += 1\n",
    "\n",
    "            review_date = fake.date_between(start_date='-5y', end_date='today')\n",
    "            total_rating = random.randint(1, 5)\n",
    "            communication_rating = random.randint(1, 5)\n",
    "            cleanliness_rating = random.randint(1, 5)\n",
    "            location_rating = random.randint(1, 5)\n",
    "            checkin_rating = random.randint(1, 5)\n",
    "            rating_id=random.randint(1,10)\n",
    "            \n",
    "            writer.writerow([host_id, guest_id, listing_id, rating_id, review_date, total_rating,\n",
    "                             communication_rating, cleanliness_rating, location_rating, checkin_rating])\n",
    "            \n",
    "\n",
    "file_path = r'\\Users\\Admin\\OneDrive\\Documents\\csv\\review.csv'\n",
    "file_path"
   ]
  },
  {
   "cell_type": "code",
   "execution_count": 13,
   "id": "b76bd899",
   "metadata": {},
   "outputs": [
    {
     "data": {
      "text/plain": [
       "'\\\\Users\\\\Admin\\\\OneDrive\\\\Documents\\\\csv\\\\booking.csv'"
      ]
     },
     "execution_count": 13,
     "metadata": {},
     "output_type": "execute_result"
    }
   ],
   "source": [
    "with open(r'C:\\Users\\Admin\\OneDrive\\Documents\\csv\\booking.csv', mode='w', newline='') as file:\n",
    "    writer = csv.writer(file)\n",
    "    writer.writerow(['Booking_ID', 'Guest_ID', 'Listing_ID', 'Booking_Status_ID', 'CheckInDate', 'CheckOutDate',\n",
    "                     'No_Of_Days', 'Booking_Date'])\n",
    "\n",
    "    start_id = 1\n",
    "    for _ in range(num_records):\n",
    "        booking_id = guest_id = listing_id = start_id\n",
    "        start_id += 1\n",
    "        \n",
    "        check_out_date = fake.date_between(start_date='-1y', end_date='today')\n",
    "        no_of_days = random.randint(1, 14)\n",
    "        check_in_date = check_out_date - timedelta(days=no_of_days)\n",
    "        booking_status_id = random.randint(1,3)\n",
    "        booking_date = check_in_date - timedelta(days=random.randint(0, 30))\n",
    "\n",
    "        writer.writerow([booking_id, guest_id, listing_id, booking_status_id, check_in_date.strftime('%Y-%m-%d'),\n",
    "                         check_out_date.strftime('%Y-%m-%d'), no_of_days, booking_date.strftime('%Y-%m-%d')])\n",
    "\n",
    "file_path = r'\\Users\\Admin\\OneDrive\\Documents\\csv\\booking.csv'\n",
    "file_path"
   ]
  },
  {
   "cell_type": "code",
   "execution_count": 6,
   "id": "043673c7",
   "metadata": {},
   "outputs": [
    {
     "data": {
      "text/plain": [
       "'\\\\Users\\\\Admin\\\\OneDrive\\\\Documents\\\\csv\\\\listing.csv'"
      ]
     },
     "execution_count": 6,
     "metadata": {},
     "output_type": "execute_result"
    }
   ],
   "source": [
    "with open(r'C:\\Users\\Admin\\OneDrive\\Documents\\csv\\listing.csv', mode='w', newline='') as file:\n",
    "        writer = csv.writer(file)\n",
    "        writer.writerow([\"Listing_ID\", \"Host_ID\", \"Guest_ID\", \"Booking_ID\", \"Price_ID\", \"Cancellation_ID\",\n",
    "                         \"Experience_ID\", \"Bedroom_ID\", \"Bathroom_ID\", \"Property_ID\", \"Response_ID\", \"Amentity_ID\",\n",
    "                         \"Room_ID\", \"Booking_Status_ID\",\"Country_ID\", \"Name\", \"Description\", \"Location\", \"Availability\", 'Bedrooms', 'Bathroom','Minimum_Days','Maximum_Days','Accommodates'])\n",
    "        \n",
    "        start_id = 1\n",
    "        for _ in range(num_records):\n",
    "            listing_id = host_id = guest_id = booking_id = price_id = start_id\n",
    "            start_id += 1\n",
    "            \n",
    "            cancellation_id = random.randint(1,3)\n",
    "            experience_id = random.randint(1,5)\n",
    "            bedroom_id = random.randint(1,4)\n",
    "            bathroom_id = random.randint(1,3)\n",
    "            property_id = random.randint(1,10)\n",
    "            response_id = random.randint(1,3)\n",
    "            booking_status_id = random.randint(1,3)\n",
    "            amenity_id = random.randint(1,5)\n",
    "            room_id = random.randint(1,5)\n",
    "            country_id = random.randint(1, 10)\n",
    "            name = fake.sentence(nb_words=4)  \n",
    "            description = fake.text(max_nb_chars=200)  \n",
    "            location = fake.address()\n",
    "            availability = 'Available' if booking_status_id in (2, 3) else 'Unavailable'\n",
    "            bedrooms = random.randint(1,5)\n",
    "            bathrooms = random.randint(1,3)\n",
    "            minimum_days = random.randint(1,3)\n",
    "            maximum_days = random.randint(5,7)\n",
    "            accommodates = random.randint(2,8)\n",
    "            \n",
    "            writer.writerow([listing_id, host_id, guest_id, booking_id, price_id, cancellation_id, experience_id,\n",
    "                bedroom_id, bathroom_id, property_id, response_id, amenity_id, room_id, booking_status_id, country_id, name, description,\n",
    "                location, availability, bedrooms, bathrooms, minimum_days, maximum_days, accommodates])\n",
    "\n",
    "\n",
    "file_path = r'\\Users\\Admin\\OneDrive\\Documents\\csv\\listing.csv'\n",
    "file_path"
   ]
  },
  {
   "cell_type": "code",
   "execution_count": 15,
   "id": "c5c5da03",
   "metadata": {},
   "outputs": [
    {
     "data": {
      "text/plain": [
       "'\\\\Users\\\\Admin\\\\OneDrive\\\\Documents\\\\csv\\\\price.csv'"
      ]
     },
     "execution_count": 15,
     "metadata": {},
     "output_type": "execute_result"
    }
   ],
   "source": [
    "with open(r'C:\\Users\\Admin\\OneDrive\\Documents\\csv\\price.csv', mode='w', newline='') as file:\n",
    "    writer = csv.writer(file)\n",
    "    writer.writerow(['Price_ID', 'Price', 'Cleaning_Fee', 'Security_Deposit', 'Extra_Person', 'Monthly_Price', 'Weekly_Price'])\n",
    "    \n",
    "    start_id = 1\n",
    "    for _ in range(num_records):\n",
    "        price_id = start_id\n",
    "        start_id += 1\n",
    "\n",
    "        price = random.randint(1, 9)*10  \n",
    "        cleaning_fee = random.randint(1,3)*10 \n",
    "        security_deposit = random.randint(1, 9)*10    \n",
    "        extra_person = random.randint(1,5)*10  \n",
    "        monthly_price = random.randint(100,300)*10  \n",
    "        weekly_price = random.randint(10,30)*10\n",
    "\n",
    "        \n",
    "        writer.writerow([price_id, price, cleaning_fee, security_deposit, extra_person, monthly_price, weekly_price])\n",
    "\n",
    "file_path=r'\\Users\\Admin\\OneDrive\\Documents\\csv\\price.csv'\n",
    "file_path"
   ]
  },
  {
   "cell_type": "code",
   "execution_count": 16,
   "id": "6bc6b6c1",
   "metadata": {},
   "outputs": [
    {
     "data": {
      "text/plain": [
       "'\\\\Users\\\\Admin\\\\OneDrive\\\\Documents\\\\csv\\\\country.csv'"
      ]
     },
     "execution_count": 16,
     "metadata": {},
     "output_type": "execute_result"
    }
   ],
   "source": [
    "with open(r'C:\\Users\\Admin\\OneDrive\\Documents\\csv\\country.csv', mode='w', newline='') as file:\n",
    "    writer = csv.writer(file)\n",
    "    writer.writerow([\"Country_ID\", \"Country\"])\n",
    "    country_list = ['USA', 'Canada', 'UK', 'Australia', 'Germany', 'France', 'Italy', 'Spain', 'China', 'India']\n",
    "    for i in range(0,10):\n",
    "\n",
    "        country_id = i + 1\n",
    "        country = country_list[i]  \n",
    "        writer.writerow([country_id, country])\n",
    "file_path = r'\\Users\\Admin\\OneDrive\\Documents\\csv\\country.csv'\n",
    "file_path"
   ]
  },
  {
   "cell_type": "code",
   "execution_count": 17,
   "id": "ab44d9b4",
   "metadata": {},
   "outputs": [
    {
     "data": {
      "text/plain": [
       "'\\\\Users\\\\Admin\\\\OneDrive\\\\Documents\\\\csv\\\\cancellation.csv'"
      ]
     },
     "execution_count": 17,
     "metadata": {},
     "output_type": "execute_result"
    }
   ],
   "source": [
    "with open(r'C:\\Users\\Admin\\OneDrive\\Documents\\csv\\cancellation.csv', mode='w', newline='') as file:\n",
    "    writer = csv.writer(file)\n",
    "    writer.writerow([\"Cancellation_ID\", \"CancellationType\"])\n",
    "    cancellation_policies = ['Flexible', 'Moderate', 'Strict', 'Non-Refundable']\n",
    "\n",
    "    for i in range(0,4):\n",
    "        \n",
    "        cancellation_id = i + 1\n",
    "        cancellation_type = cancellation_policies[i]\n",
    "        writer.writerow([cancellation_id, cancellation_type])\n",
    "file_path = r'\\Users\\Admin\\OneDrive\\Documents\\csv\\cancellation.csv'\n",
    "file_path"
   ]
  },
  {
   "cell_type": "code",
   "execution_count": 18,
   "id": "651ddeee",
   "metadata": {},
   "outputs": [
    {
     "data": {
      "text/plain": [
       "'\\\\Users\\\\Admin\\\\OneDrive\\\\Documents\\\\csv\\\\experience.csv'"
      ]
     },
     "execution_count": 18,
     "metadata": {},
     "output_type": "execute_result"
    }
   ],
   "source": [
    "with open(r'C:\\Users\\Admin\\OneDrive\\Documents\\csv\\experience.csv', mode='w', newline='') as file:\n",
    "    writer = csv.writer(file)\n",
    "    writer.writerow([\"Experience_ID\", \"Experience_offered\"])\n",
    "    experience = ['Business', 'Family', 'Romantic', 'Adventure', 'Leisure']\n",
    "\n",
    "    for i in range(0,5):\n",
    "        \n",
    "        experience_id = i + 1\n",
    "        experience_offered = experience[i]\n",
    "        writer.writerow([experience_id, experience_offered])\n",
    "file_path = r'\\Users\\Admin\\OneDrive\\Documents\\csv\\experience.csv'\n",
    "file_path"
   ]
  },
  {
   "cell_type": "code",
   "execution_count": 19,
   "id": "95f0d16d",
   "metadata": {},
   "outputs": [
    {
     "data": {
      "text/plain": [
       "'\\\\Users\\\\Admin\\\\OneDrive\\\\Documents\\\\csv\\\\bed.csv'"
      ]
     },
     "execution_count": 19,
     "metadata": {},
     "output_type": "execute_result"
    }
   ],
   "source": [
    "with open(r'C:\\Users\\Admin\\OneDrive\\Documents\\csv\\bed.csv', mode='w', newline='') as file:\n",
    "    writer = csv.writer(file)\n",
    "    writer.writerow([\"bedroom_ID\", \"BedType\",])\n",
    "    beds = [\"Standard Bed\",\"Sofa Bed\",\"Futon\",\"Bunk Bed\"]\n",
    "    for i in range(0,4):\n",
    "        \n",
    "        bedroom_id = i + 1\n",
    "        bedtype = beds[i]\n",
    "        \n",
    "        writer.writerow([bedroom_id, bedtype,])\n",
    "file_path = r'\\Users\\Admin\\OneDrive\\Documents\\csv\\bed.csv'\n",
    "file_path"
   ]
  },
  {
   "cell_type": "code",
   "execution_count": 20,
   "id": "0d413ee7",
   "metadata": {},
   "outputs": [
    {
     "data": {
      "text/plain": [
       "'\\\\Users\\\\Admin\\\\OneDrive\\\\Documents\\\\csv\\\\bathroom.csv'"
      ]
     },
     "execution_count": 20,
     "metadata": {},
     "output_type": "execute_result"
    }
   ],
   "source": [
    "with open(r'C:\\Users\\Admin\\OneDrive\\Documents\\csv\\bathroom.csv', mode='w', newline='') as file:\n",
    "    writer = csv.writer(file)\n",
    "    writer.writerow([\"Bathroom_ID\", \"BathroomType\"])\n",
    "    bathroom = ['Ensuite Bathroom', 'Shared Bathroom', 'Full Bathroom']    \n",
    "    for i in range(0,3):\n",
    "        \n",
    "        bathroom_id = i + 1\n",
    "        bathroom_type = bathroom[i]\n",
    "        \n",
    "        writer.writerow([bathroom_id, bathroom_type])\n",
    "file_path = r'\\Users\\Admin\\OneDrive\\Documents\\csv\\bathroom.csv'\n",
    "file_path\n"
   ]
  },
  {
   "cell_type": "code",
   "execution_count": 21,
   "id": "c6163a07",
   "metadata": {},
   "outputs": [
    {
     "data": {
      "text/plain": [
       "'\\\\Users\\\\Admin\\\\OneDrive\\\\Documents\\\\csv\\\\property.csv'"
      ]
     },
     "execution_count": 21,
     "metadata": {},
     "output_type": "execute_result"
    }
   ],
   "source": [
    "with open(r'C:\\Users\\Admin\\OneDrive\\Documents\\csv\\property.csv', mode='w', newline='') as file:\n",
    "    writer = csv.writer(file)\n",
    "    writer.writerow([\"Property_ID\", \"PropertyType\"])\n",
    "    property_list = ['Apartment', 'House', 'Bed and Breakfast', 'Loft', 'Townhouse','Condo',\n",
    "                     'Cabin', 'Villa', 'Castle', 'Mansion']\n",
    "\n",
    "    for i in range(0,10):\n",
    "        \n",
    "        property_id = i + 1\n",
    "        property_type = property_list[i]\n",
    "        \n",
    "        writer.writerow([property_id, property_type])\n",
    "\n",
    "file_path = r'\\Users\\Admin\\OneDrive\\Documents\\csv\\property.csv'\n",
    "file_path"
   ]
  },
  {
   "cell_type": "code",
   "execution_count": 22,
   "id": "bb6d68bf",
   "metadata": {},
   "outputs": [
    {
     "data": {
      "text/plain": [
       "'\\\\Users\\\\Admin\\\\OneDrive\\\\Documents\\\\csv\\\\rating.csv'"
      ]
     },
     "execution_count": 22,
     "metadata": {},
     "output_type": "execute_result"
    }
   ],
   "source": [
    "with open(r'C:\\Users\\Admin\\OneDrive\\Documents\\csv\\rating.csv', mode='w', newline='') as file:\n",
    "    writer = csv.writer(file)\n",
    "    writer.writerow([\"Rating_ID\", \"RatingLevel\", \"Rating\"])\n",
    "    rating_levels = {\n",
    "        'Excellent': 5.0,\n",
    "        'Very Good': 4.5,\n",
    "        'Good': 4.0,\n",
    "        'Fair': 3.5,\n",
    "        'Poor': 3.0\n",
    "    }\n",
    "\n",
    "    rating_id = 1\n",
    "    for level, rating in rating_levels.items():\n",
    "        writer.writerow([rating_id, level, rating])\n",
    "        rating_id += 1\n",
    "file_path = r'\\Users\\Admin\\OneDrive\\Documents\\csv\\rating.csv'\n",
    "file_path\n"
   ]
  },
  {
   "cell_type": "code",
   "execution_count": 28,
   "id": "c25e4bc9",
   "metadata": {},
   "outputs": [
    {
     "data": {
      "text/plain": [
       "'\\\\Users\\\\Admin\\\\OneDrive\\\\Documents\\\\csv\\\\response.csv'"
      ]
     },
     "execution_count": 28,
     "metadata": {},
     "output_type": "execute_result"
    }
   ],
   "source": [
    "with open(r'C:\\Users\\Admin\\OneDrive\\Documents\\csv\\response.csv', mode='w', newline='') as file:\n",
    "    writer = csv.writer(file)\n",
    "    writer.writerow([\"Response_ID\", \"ResponseTime\"])\n",
    "    response_times = ['Immediate', 'Within a few hours', 'Within a day']\n",
    "    \n",
    "    for i in range(0,3):\n",
    "        response_id = i + 1\n",
    "        response_time = response_times[i]\n",
    "        writer.writerow([response_id, response_time])\n",
    "        \n",
    "file_path = r'\\Users\\Admin\\OneDrive\\Documents\\csv\\response.csv'\n",
    "file_path"
   ]
  },
  {
   "cell_type": "code",
   "execution_count": 27,
   "id": "09af3f49",
   "metadata": {},
   "outputs": [
    {
     "data": {
      "text/plain": [
       "'\\\\Users\\\\Admin\\\\OneDrive\\\\Documents\\\\csv\\\\status.csv'"
      ]
     },
     "execution_count": 27,
     "metadata": {},
     "output_type": "execute_result"
    }
   ],
   "source": [
    "with open(r'C:\\Users\\Admin\\OneDrive\\Documents\\csv\\status.csv', mode='w', newline='') as file:\n",
    "    writer = csv.writer(file)\n",
    "    verification_statuses = ['Verified', 'Unverified']\n",
    "    writer.writerow([\"Status_ID\", \"Verification_Status\"])\n",
    "    for i in range(0,2):\n",
    "        status_id = i + 1\n",
    "        verification_status = verification_statuses[i]\n",
    "        writer.writerow([status_id, verification_status])\n",
    "file_path = r'\\Users\\Admin\\OneDrive\\Documents\\csv\\status.csv'\n",
    "file_path"
   ]
  },
  {
   "cell_type": "code",
   "execution_count": 29,
   "id": "ec0452a9",
   "metadata": {},
   "outputs": [
    {
     "data": {
      "text/plain": [
       "'\\\\Users\\\\Admin\\\\OneDrive\\\\Documents\\\\csv\\\\booking_status.csv'"
      ]
     },
     "execution_count": 29,
     "metadata": {},
     "output_type": "execute_result"
    }
   ],
   "source": [
    "with open(r'C:\\Users\\Admin\\OneDrive\\Documents\\csv\\booking_status.csv', mode='w', newline='') as file:\n",
    "    writer = csv.writer(file)\n",
    "    writer.writerow([\"Booking_Status_ID\", \"BookingStatus\"])\n",
    "    booking_statuses = ['Confirmed', 'Cancelled', 'Pending']\n",
    "    for i in range(0,3):\n",
    "        booking_status_id = i + 1\n",
    "        booking_status = booking_statuses[i]\n",
    "        writer.writerow([booking_status_id, booking_status])\n",
    "\n",
    "file_path = r'\\Users\\Admin\\OneDrive\\Documents\\csv\\booking_status.csv'\n",
    "file_path\n"
   ]
  },
  {
   "cell_type": "code",
   "execution_count": 30,
   "id": "520c4d7d",
   "metadata": {},
   "outputs": [
    {
     "data": {
      "text/plain": [
       "'\\\\Users\\\\Admin\\\\OneDrive\\\\Documents\\\\csv\\\\room.csv'"
      ]
     },
     "execution_count": 30,
     "metadata": {},
     "output_type": "execute_result"
    }
   ],
   "source": [
    "with open(r'C:\\Users\\Admin\\OneDrive\\Documents\\csv\\room.csv', mode='w', newline='') as file:\n",
    "    writer = csv.writer(file)\n",
    "    writer.writerow([\"Room_ID\", \"RoomType\"])\n",
    "    room_types = ['Entire Place', 'Private Room', 'Shared Room', 'Hotel Room', 'Dormitory']\n",
    "    for i in range(0,5):\n",
    "        room_id = i + 1\n",
    "        room_type = room_types[i]\n",
    "        writer.writerow([room_id, room_type])\n",
    "\n",
    "\n",
    "file_path = r'\\Users\\Admin\\OneDrive\\Documents\\csv\\room.csv'\n",
    "file_path"
   ]
  },
  {
   "cell_type": "code",
   "execution_count": 31,
   "id": "c040336e",
   "metadata": {},
   "outputs": [
    {
     "data": {
      "text/plain": [
       "'\\\\Users\\\\Admin\\\\OneDrive\\\\Documents\\\\csv\\\\amentity.csv'"
      ]
     },
     "execution_count": 31,
     "metadata": {},
     "output_type": "execute_result"
    }
   ],
   "source": [
    "with open(r'C:\\Users\\Admin\\OneDrive\\Documents\\csv\\amentity.csv', mode='w', newline='') as file:\n",
    "        writer = csv.writer(file)\n",
    "        writer.writerow([\"Amentity_ID\", \"Amentity_level\", \"Description\"])\n",
    "        amenities_descriptions = {\n",
    "        'Basic': 'wifi,heating,air-conditioning',\n",
    "        'Standard': 'wifi,heating,air-conditioning,hair dryer,iron',\n",
    "        'Comfort': 'wifi,heating,air-conditioning,hair dryer,iron,TV,Kitchen',\n",
    "        'Premium': 'wifi,heating,air-conditioning,hair dryer,iron,TV,Kitchen,Patio,Hot water',\n",
    "        'Luxury': 'wifi,heating,air-conditioning,hair dryer,iron,TV,Kitchen,Patio,Hot water,Fire pit,BBQ grill'\n",
    "    }\n",
    "\n",
    "\n",
    "        amentity_id = 1\n",
    "        for level in amenities_descriptions:\n",
    "            description = amenities_descriptions[level]\n",
    "            writer.writerow([amentity_id, level, description])\n",
    "            amentity_id += 1\n",
    "\n",
    "file_path = r'\\Users\\Admin\\OneDrive\\Documents\\csv\\amentity.csv'\n",
    "file_path"
   ]
  },
  {
   "cell_type": "code",
   "execution_count": null,
   "id": "b2912380",
   "metadata": {},
   "outputs": [],
   "source": []
  },
  {
   "cell_type": "code",
   "execution_count": null,
   "id": "32870edd",
   "metadata": {},
   "outputs": [],
   "source": []
  }
 ],
 "metadata": {
  "kernelspec": {
   "display_name": "Python 3 (ipykernel)",
   "language": "python",
   "name": "python3"
  },
  "language_info": {
   "codemirror_mode": {
    "name": "ipython",
    "version": 3
   },
   "file_extension": ".py",
   "mimetype": "text/x-python",
   "name": "python",
   "nbconvert_exporter": "python",
   "pygments_lexer": "ipython3",
   "version": "3.12.1"
  }
 },
 "nbformat": 4,
 "nbformat_minor": 5
}
